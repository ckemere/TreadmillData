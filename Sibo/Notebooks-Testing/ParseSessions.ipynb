{
 "cells": [
  {
   "cell_type": "code",
   "execution_count": 1,
   "metadata": {},
   "outputs": [
    {
     "ename": "ModuleNotFoundError",
     "evalue": "No module named 'sklearn'",
     "output_type": "error",
     "traceback": [
      "\u001b[0;31m---------------------------------------------------------------------------\u001b[0m",
      "\u001b[0;31mModuleNotFoundError\u001b[0m                       Traceback (most recent call last)",
      "\u001b[0;32m<ipython-input-1-ced338f7b17e>\u001b[0m in \u001b[0;36m<module>\u001b[0;34m\u001b[0m\n\u001b[1;32m      1\u001b[0m \u001b[0;32mimport\u001b[0m \u001b[0mnumpy\u001b[0m \u001b[0;32mas\u001b[0m \u001b[0mnp\u001b[0m\u001b[0;34m\u001b[0m\u001b[0;34m\u001b[0m\u001b[0m\n\u001b[1;32m      2\u001b[0m \u001b[0;32mimport\u001b[0m \u001b[0mmatplotlib\u001b[0m\u001b[0;34m.\u001b[0m\u001b[0mpyplot\u001b[0m \u001b[0;32mas\u001b[0m \u001b[0mplt\u001b[0m\u001b[0;34m\u001b[0m\u001b[0;34m\u001b[0m\u001b[0m\n\u001b[0;32m----> 3\u001b[0;31m \u001b[0;32mimport\u001b[0m \u001b[0mnelpy\u001b[0m \u001b[0;32mas\u001b[0m \u001b[0mnel\u001b[0m\u001b[0;34m\u001b[0m\u001b[0;34m\u001b[0m\u001b[0m\n\u001b[0m",
      "\u001b[0;32m~/Code/nelpy/nelpy/__init__.py\u001b[0m in \u001b[0;36m<module>\u001b[0;34m\u001b[0m\n\u001b[1;32m     14\u001b[0m \u001b[0;34m\u001b[0m\u001b[0m\n\u001b[1;32m     15\u001b[0m \u001b[0;31m# from . import analysis\u001b[0m\u001b[0;34m\u001b[0m\u001b[0;34m\u001b[0m\u001b[0;34m\u001b[0m\u001b[0m\n\u001b[0;32m---> 16\u001b[0;31m \u001b[0;32mfrom\u001b[0m \u001b[0;34m.\u001b[0m \u001b[0;32mimport\u001b[0m \u001b[0mpreprocessing\u001b[0m\u001b[0;34m\u001b[0m\u001b[0;34m\u001b[0m\u001b[0m\n\u001b[0m\u001b[1;32m     17\u001b[0m \u001b[0;32mfrom\u001b[0m \u001b[0;34m.\u001b[0m \u001b[0;32mimport\u001b[0m \u001b[0mfiltering\u001b[0m\u001b[0;34m\u001b[0m\u001b[0;34m\u001b[0m\u001b[0m\n\u001b[1;32m     18\u001b[0m \u001b[0;32mfrom\u001b[0m \u001b[0;34m.\u001b[0m \u001b[0;32mimport\u001b[0m \u001b[0mplotting\u001b[0m\u001b[0;34m\u001b[0m\u001b[0;34m\u001b[0m\u001b[0m\n",
      "\u001b[0;32m~/Code/nelpy/nelpy/preprocessing.py\u001b[0m in \u001b[0;36m<module>\u001b[0;34m\u001b[0m\n\u001b[1;32m      7\u001b[0m \u001b[0;32mfrom\u001b[0m \u001b[0mfunctools\u001b[0m \u001b[0;32mimport\u001b[0m \u001b[0mwraps\u001b[0m\u001b[0;34m\u001b[0m\u001b[0;34m\u001b[0m\u001b[0m\n\u001b[1;32m      8\u001b[0m \u001b[0;34m\u001b[0m\u001b[0m\n\u001b[0;32m----> 9\u001b[0;31m \u001b[0;32mfrom\u001b[0m \u001b[0msklearn\u001b[0m\u001b[0;34m.\u001b[0m\u001b[0mbase\u001b[0m \u001b[0;32mimport\u001b[0m \u001b[0mBaseEstimator\u001b[0m\u001b[0;34m\u001b[0m\u001b[0;34m\u001b[0m\u001b[0m\n\u001b[0m\u001b[1;32m     10\u001b[0m \u001b[0;32mfrom\u001b[0m \u001b[0msklearn\u001b[0m\u001b[0;34m.\u001b[0m\u001b[0mutils\u001b[0m\u001b[0;34m.\u001b[0m\u001b[0mvalidation\u001b[0m \u001b[0;32mimport\u001b[0m \u001b[0mcheck_is_fitted\u001b[0m\u001b[0;34m\u001b[0m\u001b[0;34m\u001b[0m\u001b[0m\n\u001b[1;32m     11\u001b[0m \u001b[0;32mfrom\u001b[0m \u001b[0msklearn\u001b[0m\u001b[0;34m.\u001b[0m\u001b[0mpreprocessing\u001b[0m \u001b[0;32mimport\u001b[0m \u001b[0mStandardScaler\u001b[0m \u001b[0;32mas\u001b[0m \u001b[0mSklearnStandardScaler\u001b[0m\u001b[0;34m\u001b[0m\u001b[0;34m\u001b[0m\u001b[0m\n",
      "\u001b[0;31mModuleNotFoundError\u001b[0m: No module named 'sklearn'"
     ]
    }
   ],
   "source": [
    "import numpy as np\n",
    "import matplotlib.pyplot as plt\n",
    "import nelpy as nel\n"
   ]
  },
  {
   "cell_type": "code",
   "execution_count": null,
   "metadata": {},
   "outputs": [],
   "source": [
    "import os\n",
    "import glob\n",
    "\n",
    "DataRoot = '/mnt/fastraid/Data/Sibo/combined'\n",
    "LogFileDirs = glob.glob('./ExperimentLog*')\n",
    "\n"
   ]
  },
  {
   "cell_type": "code",
   "execution_count": null,
   "metadata": {},
   "outputs": [],
   "source": [
    "for LogFileDir in LogFileDirs:\n",
    "    LogFileName = os.path.join(LogFileDir, 'DataLog.csv')\n",
    "    ConfigFileName = os.path.join(LogFileDir, 'ParsedConfig.yaml')\n",
    "\n",
    "    with open(ConfigFileName, 'r') as f:\n",
    "        Config = yaml.safe_load(f)\n",
    "\n",
    "    data_log = pd.read_csv(LogFileName, header=2, names=['ts_master', 'GPIO', 'encoder', 'encoder_unwrapped', 'ts_sys'])\n",
    "\n",
    "\n",
    "    pos = ((data_log.encoder_unwrapped - data_log.encoder_unwrapped[0])/4096.0 * np.pi * 20.2).to_numpy()\n",
    "    t = ((data_log.ts_master - data_log.ts_master[0])/1000).to_numpy()\n",
    "    virtual_track_position = nel.Ordinate(labelstring='distance ({})', base_unit='cm')\n",
    "    pos_data = nel.AnalogSignalArray(data=pos, time=t, ordinate=virtual_track_position)\n",
    "\n",
    "\n",
    "    def extract_gpio(data, config):\n",
    "        gpio_data = {}\n",
    "        for key, value in config['GPIO'].items():\n",
    "            gpio_data[key] = np.bitwise_and(data, 2**(value['Number']-1)) > 0\n",
    "\n",
    "        return gpio_data\n",
    "\n",
    "    gpio = extract_gpio(data_log.GPIO.to_numpy(), Config)\n",
    "    reward_times = t[np.nonzero(np.diff(gpio['Reward'])==1)[0] + 1]\n",
    "    reward_data = nel.SpikeTrainArray(reward_times, fs=500, support=pos_data.support)\n",
    "\n",
    "    lick_data = nel.SpikeTrainArray(t[np.nonzero(gpio['Lick'])], fs=500, support=pos_data.support)\n",
    "    lick_rate = nel.AnalogSignalArray(lick_data.bin(ds=0.25)/0.25, \n",
    "                                            ordinate=nel.Ordinate(labelstring='lick_rate ({})', base_unit='Hz'))\n",
    "    fig, ax = plt.subplots(2,1, gridspec_kw={'height_ratios': [10, 1]})\n",
    "    nel.plotting.plot(pos_data, ax=ax[0], xlabel='')\n",
    "    nel.plotting.utils.clear_top_bottom(ax[0])\n",
    "    nel.plotting.utils.clear_right(ax[0])\n",
    "    ax[0].set_title('{}'.format(LogFileDir))\n",
    "    ax[0].set_xlabel('')\n",
    "    ax2 = plt.twinx(ax[1])\n",
    "    nel.plotting.plot(lick_rate, ax=ax[1])\n",
    "    nel.plotting.rasterplot(reward_data, ax=ax2, color='r', linestyle='--')\n"
   ]
  },
  {
   "cell_type": "code",
   "execution_count": null,
   "metadata": {},
   "outputs": [],
   "source": [
    "fig, ax = plt.subplots(2,1, gridspec_kw={'height_ratios': [10, 1]}, figsize=(8,12), sharex=True)\n",
    "ax[0].plot(pos_data.abscissa_vals, np.mod(pos_data.data.squeeze(), Config['Maze']['Length']))\n",
    "nel.plotting.utils.clear_top_bottom(ax[0])\n",
    "nel.plotting.utils.clear_right(ax[0])\n",
    "ax[0].set_title('{}'.format(LogFileDir))\n",
    "ax[0].set_xlabel('')\n",
    "ax2 = plt.twinx(ax[1])\n",
    "nel.plotting.plot(lick_rate, ax=ax[1])\n",
    "nel.plotting.rasterplot(reward_data, ax=ax2, color='r', linestyle='--')\n"
   ]
  },
  {
   "cell_type": "code",
   "execution_count": null,
   "metadata": {},
   "outputs": [],
   "source": [
    "fig, ax = plt.subplots(2,1, gridspec_kw={'height_ratios': [10, 1]}, figsize=(8,12), sharex=True)\n",
    "pos_data_ds = pos_data.downsample(fs_out=10)\n",
    "nel.plotting.plot(pos_data_ds, ax=ax[0])\n",
    "ax1 = plt.twinx(ax[0])\n",
    "nel.plotting.plot(nel.utils.ddt_asa(pos_data_ds, smooth=True, sigma=10), ax=ax1, color='g')\n",
    "ax[0].set_title('{}'.format(LogFileDir))\n",
    "ax[0].set_xlabel('')\n",
    "ax1.set_ylabel('speed (cm/s)')\n",
    "ax2 = plt.twinx(ax[1])\n",
    "nel.plotting.plot(lick_rate, ax=ax[1])\n",
    "nel.plotting.rasterplot(reward_data, ax=ax2, color='r', linestyle='--')\n",
    "ax[0].set_xlim(4200,4600)"
   ]
  },
  {
   "cell_type": "code",
   "execution_count": null,
   "metadata": {},
   "outputs": [],
   "source": [
    "p2 = pos_data.downsample(fs_out=10)"
   ]
  },
  {
   "cell_type": "code",
   "execution_count": null,
   "metadata": {},
   "outputs": [],
   "source": []
  }
 ],
 "metadata": {
  "kernelspec": {
   "display_name": "Python 3",
   "language": "python",
   "name": "python3"
  },
  "language_info": {
   "codemirror_mode": {
    "name": "ipython",
    "version": 3
   },
   "file_extension": ".py",
   "mimetype": "text/x-python",
   "name": "python",
   "nbconvert_exporter": "python",
   "pygments_lexer": "ipython3",
   "version": "3.8.5"
  }
 },
 "nbformat": 4,
 "nbformat_minor": 4
}
